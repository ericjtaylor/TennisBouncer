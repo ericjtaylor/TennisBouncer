{
 "cells": [
  {
   "cell_type": "markdown",
   "metadata": {},
   "source": [
    "# Collaboration and Competition\n",
    "\n",
    "---\n",
    "\n",
    "### 1. Init\n",
    "Import packages, create the unity environment, and instantiate a new agent."
   ]
  },
  {
   "cell_type": "code",
   "execution_count": 1,
   "metadata": {},
   "outputs": [
    {
     "name": "stdout",
     "output_type": "stream",
     "text": [
      "CUDA is available:  True\n",
      "Current device:  0\n",
      "Device name:  GeForce GTX 1080 Ti\n"
     ]
    },
    {
     "name": "stderr",
     "output_type": "stream",
     "text": [
      "INFO:unityagents:\n",
      "'Academy' started successfully!\n",
      "Unity Academy name: Academy\n",
      "        Number of Brains: 1\n",
      "        Number of External Brains : 1\n",
      "        Lesson number : 0\n",
      "        Reset Parameters :\n",
      "\t\t\n",
      "Unity brain name: TennisBrain\n",
      "        Number of Visual Observations (per agent): 0\n",
      "        Vector Observation space type: continuous\n",
      "        Vector Observation space size (per agent): 8\n",
      "        Number of stacked Vector Observation: 3\n",
      "        Vector Action space type: continuous\n",
      "        Vector Action space size (per agent): 2\n",
      "        Vector Action descriptions: , \n"
     ]
    }
   ],
   "source": [
    "from unityagents import UnityEnvironment\n",
    "import numpy as np\n",
    "import matplotlib.pyplot as plt\n",
    "from collections import deque\n",
    "import torch\n",
    "import random\n",
    "\n",
    "# confirm cuda setup\n",
    "print(\"CUDA is available: \", torch.cuda.is_available())\n",
    "torch.cuda.empty_cache()\n",
    "print(\"Current device: \", torch.cuda.current_device())\n",
    "print(\"Device name: \", torch.cuda.get_device_name(0))\n",
    "\n",
    "env = UnityEnvironment(file_name=\"./Tennis_Linux/Tennis.x86_64\")\n",
    "# get the default brain\n",
    "brain_name = env.brain_names[0]\n",
    "brain = env.brains[brain_name]\n",
    "\n",
    "from ddpg_agent import Agent\n",
    "agent = Agent(state_size=24, action_size=2, random_seed=0)"
   ]
  },
  {
   "cell_type": "markdown",
   "metadata": {},
   "source": [
    "### 2. Train The Agent (Optional)"
   ]
  },
  {
   "cell_type": "code",
   "execution_count": 2,
   "metadata": {},
   "outputs": [
    {
     "name": "stdout",
     "output_type": "stream",
     "text": [
      "Episode 100\tAverage Score: 0.00\tScore: 0.00\n",
      "Episode 200\tAverage Score: 0.00\tScore: 0.00\n",
      "Episode 300\tAverage Score: 0.01\tScore: 0.00\n",
      "Episode 400\tAverage Score: 0.02\tScore: 0.00\n",
      "Episode 500\tAverage Score: 0.01\tScore: 0.10\n",
      "Episode 600\tAverage Score: 0.04\tScore: 0.09\n",
      "Episode 700\tAverage Score: 0.09\tScore: 0.09\n",
      "Episode 800\tAverage Score: 0.08\tScore: 0.10\n",
      "Episode 900\tAverage Score: 0.14\tScore: 0.20\n",
      "Episode 1000\tAverage Score: 0.15\tScore: 0.10\n",
      "Episode 1100\tAverage Score: 0.26\tScore: 0.10\n",
      "Episode 1200\tAverage Score: 0.25\tScore: 0.30\n",
      "Episode 1300\tAverage Score: 0.86\tScore: 2.70\n",
      "Episode 1400\tAverage Score: 1.29\tScore: 2.60\n",
      "Episode 1500\tAverage Score: 1.94\tScore: 2.60\n",
      "Episode 1600\tAverage Score: 1.83\tScore: 2.60\n",
      "Episode 1700\tAverage Score: 2.00\tScore: 2.60\n",
      "Episode 1800\tAverage Score: 1.75\tScore: 2.60\n",
      "Episode 1900\tAverage Score: 0.71\tScore: 0.60\n",
      "Episode 2000\tAverage Score: 0.53\tScore: 0.10\n"
     ]
    },
    {
     "name": "stderr",
     "output_type": "stream",
     "text": [
      "/home/user/anaconda3/envs/drlnd/lib/python3.6/site-packages/numpy/core/fromnumeric.py:2920: RuntimeWarning: Mean of empty slice.\n",
      "  out=out, **kwargs)\n",
      "/home/user/anaconda3/envs/drlnd/lib/python3.6/site-packages/numpy/core/_methods.py:85: RuntimeWarning: invalid value encountered in double_scalars\n",
      "  ret = ret.dtype.type(ret / rcount)\n"
     ]
    },
    {
     "data": {
      "image/png": "[encoded data removed]",
      "text/plain": [
       "<Figure size 432x288 with 1 Axes>"
      ]
     },
     "metadata": {
      "needs_background": "light"
     },
     "output_type": "display_data"
    }
   ],
   "source": [
    "def ddpg(n_episodes=2000):\n",
    "    scores_deque = deque(maxlen=100)\n",
    "    scores = []\n",
    "    max_score = -np.Inf\n",
    "    for i_episode in range(1, n_episodes+1):\n",
    "        env_info = env.reset(train_mode=True)[brain_name]\n",
    "        state = env_info.vector_observations\n",
    "        agent.reset()\n",
    "        score = [0, 0]\n",
    "        while True:\n",
    "            action = [ agent.act(state[i]) for i in range(2) ] # select an action\n",
    "            env_info = env.step(action)[brain_name]        # send the action to the environment\n",
    "            next_state = env_info.vector_observations      # get the next state\n",
    "            reward = env_info.rewards                      # get the reward\n",
    "            done = env_info.local_done                     # see if episode has finished\n",
    "            for i in range(2):\n",
    "                score[i] += reward[i]\n",
    "                volleys = 10*score[i]+1\n",
    "                # only add to the experience buffer for the initial volleys\n",
    "                if reward[i] != 0 or (random.uniform(0, 1) < 1 / (volleys*volleys*volleys)):\n",
    "                    agent.step(state[i], action[i], reward[i], next_state[i], done[i])\n",
    "            state = next_state\n",
    "            if done[0] or done[1]:\n",
    "                break\n",
    "        scores_deque.append(max(score))\n",
    "        scores.append(max(score))\n",
    "        print('\\rEpisode {}\\tAverage Score: {:.2f}\\tScore: {:.2f}'.format(i_episode, np.mean(scores_deque), max(score)), end=\"\")\n",
    "        if i_episode % 100 == 0:\n",
    "            print('\\rEpisode {}\\tAverage Score: {:.2f}'.format(i_episode, np.mean(scores_deque)))   \n",
    "        if np.mean(scores_deque) > max_score:\n",
    "            max_score = np.mean(scores_deque)\n",
    "            torch.save(agent.actor_local.state_dict(), 'checkpoint_actor.pth')\n",
    "            torch.save(agent.critic_local.state_dict(), 'checkpoint_critic.pth')\n",
    "    return scores\n",
    "\n",
    "scores = ddpg()\n",
    "\n",
    "running_avg = [ np.mean(scores[i-100:i]) for i in range(len(scores)) if i >= 99]\n",
    "\n",
    "fig = plt.figure()\n",
    "ax = fig.add_subplot(111)\n",
    "plt.plot(np.arange(1, len(scores)+1), scores)\n",
    "plt.plot(np.arange(100, len(scores)+1), running_avg)\n",
    "plt.ylabel('Score')\n",
    "plt.xlabel('Episode #')\n",
    "plt.show()"
   ]
  },
  {
   "cell_type": "markdown",
   "metadata": {},
   "source": [
    "### 3. Agent Demo\n",
    "Load the agent and run a session in the environment."
   ]
  },
  {
   "cell_type": "code",
   "execution_count": 3,
   "metadata": {},
   "outputs": [
    {
     "name": "stdout",
     "output_type": "stream",
     "text": [
      "Total score this episode: 2.600000038743019\n"
     ]
    }
   ],
   "source": [
    "agent.actor_local.load_state_dict(torch.load('checkpoint_actor.pth'))\n",
    "agent.critic_local.load_state_dict(torch.load('checkpoint_critic.pth'))\n",
    "\n",
    "env_info = env.reset(train_mode=False)[brain_name]\n",
    "state = env_info.vector_observations\n",
    "agent.reset()\n",
    "score = [0, 0]\n",
    "\n",
    "while True:\n",
    "    action = [ agent.act(state[i]) for i in range(2) ] # select an action\n",
    "    env_info = env.step(action)[brain_name]        # send the action to the environment\n",
    "    next_state = env_info.vector_observations      # get the next state\n",
    "    reward = env_info.rewards                      # get the reward\n",
    "    done = env_info.local_done                     # see if episode has finished\n",
    "    for i in range(2):\n",
    "        score[i] += reward[i]\n",
    "    state = next_state\n",
    "    if done[0] or done[1]:\n",
    "        break\n",
    "\n",
    "print('Total score this episode: {}'.format(max(score)))"
   ]
  }
 ],
 "metadata": {
  "kernelspec": {
   "display_name": "drlnd",
   "language": "python",
   "name": "drlnd"
  },
  "language_info": {
   "codemirror_mode": {
    "name": "ipython",
    "version": 3
   },
   "file_extension": ".py",
   "mimetype": "text/x-python",
   "name": "python",
   "nbconvert_exporter": "python",
   "pygments_lexer": "ipython3",
   "version": "3.6.2"
  }
 },
 "nbformat": 4,
 "nbformat_minor": 2
}
